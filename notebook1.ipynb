{
 "cells": [
  {
   "cell_type": "markdown",
   "id": "a9723c9c-7a87-4c17-855f-5e0fa17156a0",
   "metadata": {},
   "source": [
    "# My first notebook\n",
    "Example 1: print \"Hello World! on console"
   ]
  },
  {
   "cell_type": "code",
   "execution_count": null,
   "id": "10a01635-82c3-42c3-b432-03cedfab581e",
   "metadata": {},
   "outputs": [],
   "source": [
    "print(\"Hello World!\")"
   ]
  },
  {
   "cell_type": "markdown",
   "id": "6a09c4f4-bff7-4aca-9f22-efce0857c191",
   "metadata": {},
   "source": [
    "# Comments in Python"
   ]
  },
  {
   "cell_type": "code",
   "execution_count": null,
   "id": "8f4ff98d-6ef3-4456-bb53-255b3f39dc2b",
   "metadata": {},
   "outputs": [],
   "source": [
    "# Comments in Python\n",
    "#This is a comment.\n",
    "\"\"\" This is \n",
    "a multiline \n",
    "comment.\n",
    "\"\"\"\n"
   ]
  },
  {
   "cell_type": "markdown",
   "id": "eb5b8164-d7d6-4ef2-b9f2-3a6176085977",
   "metadata": {},
   "source": [
    "# Print function\n"
   ]
  },
  {
   "cell_type": "code",
   "execution_count": 9,
   "id": "d53de1ef-a4a4-41ff-ba64-673c6dd1122d",
   "metadata": {},
   "outputs": [
    {
     "name": "stdout",
     "output_type": "stream",
     "text": [
      "Hello, There!\n",
      "31\n",
      "350\n",
      "100 + 250\n",
      "100 100 100 100 100 \n",
      "Rucha The Time Machine True 3.5 300000\n"
     ]
    }
   ],
   "source": [
    "#Print function\n",
    "print(\"Hello, There!\")\n",
    "print(1+5*6) #prints 31 (PEMDAS/BODMAS)\n",
    "print(100+250) #prints 350\n",
    "print(\"100 + 250\") # prints 100 + 250\n",
    "print(\"100 \"*5) #Prints 100 five times\n",
    "print(\"Rucha\", \"The Time Machine\", True, 3.5, 300000)"
   ]
  },
  {
   "cell_type": "code",
   "execution_count": 10,
   "id": "0203b0c2-03d1-4c49-a397-dc8226a09a22",
   "metadata": {},
   "outputs": [
    {
     "name": "stdout",
     "output_type": "stream",
     "text": [
      "1+2+3+4\n",
      "5&6&7&8\n",
      "1+2+3+4-5&6&7&8#9$0#"
     ]
    }
   ],
   "source": [
    "#Print function sep and end\n",
    "print(1,2,3,4, sep = \"+\")\n",
    "print(5,6,7,8, sep = \"&\")\n",
    "print(1,2,3,4, sep = \"+\", end = \"-\")\n",
    "print(5,6,7,8, sep = \"&\", end =\"#\")\n",
    "print(9,0,sep = \"$\", end = \"#\")"
   ]
  },
  {
   "cell_type": "code",
   "execution_count": null,
   "id": "17cca419-4b5c-4a39-b5ee-962b9c48c86c",
   "metadata": {},
   "outputs": [],
   "source": [
    "#vaiable naming\n",
    "test_score = 10 # snake case"
   ]
  },
  {
   "cell_type": "code",
   "execution_count": 11,
   "id": "aead3217-7b5e-4508-8cbe-97fee0175626",
   "metadata": {},
   "outputs": [
    {
     "name": "stdout",
     "output_type": "stream",
     "text": [
      "None 100 10.3 False Harry Potter\n"
     ]
    }
   ],
   "source": [
    "# variables (Datatypes)\n",
    "file = None\n",
    "number : int = 100\n",
    "sales_tax : float = 10.3\n",
    "fake_news : bool = False\n",
    "student_name : str = \"Harry Potter\"\n",
    "print(file, number, sales_tax, fake_news, name)"
   ]
  }
 ],
 "metadata": {
  "kernelspec": {
   "display_name": "Python 3 (ipykernel)",
   "language": "python",
   "name": "python3"
  },
  "language_info": {
   "codemirror_mode": {
    "name": "ipython",
    "version": 3
   },
   "file_extension": ".py",
   "mimetype": "text/x-python",
   "name": "python",
   "nbconvert_exporter": "python",
   "pygments_lexer": "ipython3",
   "version": "3.12.8"
  }
 },
 "nbformat": 4,
 "nbformat_minor": 5
}
