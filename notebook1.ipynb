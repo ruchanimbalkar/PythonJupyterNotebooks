{
 "cells": [
  {
   "cell_type": "markdown",
   "id": "a9723c9c-7a87-4c17-855f-5e0fa17156a0",
   "metadata": {},
   "source": [
    "# My first notebook\n",
    "Example 1: print \"Hello World! on console"
   ]
  },
  {
   "cell_type": "code",
   "execution_count": null,
   "id": "10a01635-82c3-42c3-b432-03cedfab581e",
   "metadata": {},
   "outputs": [],
   "source": [
    "print(\"Hello World!\")"
   ]
  },
  {
   "cell_type": "markdown",
   "id": "6a09c4f4-bff7-4aca-9f22-efce0857c191",
   "metadata": {},
   "source": [
    "# Comments in Python"
   ]
  },
  {
   "cell_type": "code",
   "execution_count": null,
   "id": "8f4ff98d-6ef3-4456-bb53-255b3f39dc2b",
   "metadata": {},
   "outputs": [],
   "source": [
    "# Comments in Python\n",
    "#This is a comment.\n",
    "\"\"\" This is \n",
    "a multiline \n",
    "comment.\n",
    "\"\"\"\n"
   ]
  },
  {
   "cell_type": "markdown",
   "id": "eb5b8164-d7d6-4ef2-b9f2-3a6176085977",
   "metadata": {},
   "source": [
    "# Print function\n"
   ]
  },
  {
   "cell_type": "code",
   "execution_count": 9,
   "id": "d53de1ef-a4a4-41ff-ba64-673c6dd1122d",
   "metadata": {},
   "outputs": [
    {
     "name": "stdout",
     "output_type": "stream",
     "text": [
      "Hello, There!\n",
      "31\n",
      "350\n",
      "100 + 250\n",
      "100 100 100 100 100 \n",
      "Rucha The Time Machine True 3.5 300000\n"
     ]
    }
   ],
   "source": [
    "#Print function\n",
    "print(\"Hello, There!\")\n",
    "print(1+5*6) #prints 31 (PEMDAS/BODMAS)\n",
    "print(100+250) #prints 350\n",
    "print(\"100 + 250\") # prints 100 + 250\n",
    "print(\"100 \"*5) #Prints 100 five times\n",
    "print(\"Rucha\", \"The Time Machine\", True, 3.5, 300000)"
   ]
  },
  {
   "cell_type": "code",
   "execution_count": 10,
   "id": "0203b0c2-03d1-4c49-a397-dc8226a09a22",
   "metadata": {},
   "outputs": [
    {
     "name": "stdout",
     "output_type": "stream",
     "text": [
      "1+2+3+4\n",
      "5&6&7&8\n",
      "1+2+3+4-5&6&7&8#9$0#"
     ]
    }
   ],
   "source": [
    "#Print function sep and end\n",
    "print(1,2,3,4, sep = \"+\")\n",
    "print(5,6,7,8, sep = \"&\")\n",
    "print(1,2,3,4, sep = \"+\", end = \"-\")\n",
    "print(5,6,7,8, sep = \"&\", end =\"#\")\n",
    "print(9,0,sep = \"$\", end = \"#\")"
   ]
  },
  {
   "cell_type": "code",
   "execution_count": null,
   "id": "17cca419-4b5c-4a39-b5ee-962b9c48c86c",
   "metadata": {},
   "outputs": [],
   "source": [
    "#vaiable naming\n",
    "test_score = 10 # snake case"
   ]
  },
  {
   "cell_type": "code",
   "execution_count": null,
   "id": "8d893529-05fa-4a63-9926-f7ed48c448db",
   "metadata": {},
   "outputs": [],
   "source": [
    "# variables (Datatypes)\n",
    "file = None\n",
    "number : int = 100\n",
    "sales_tax : float = 10.3\n",
    "fake_news : bool = False\n",
    "student_name : str = \"Harry Potter\"\n",
    "print(file, number, sales_tax, fake_news, name)"
   ]
  },
  {
   "cell_type": "code",
   "execution_count": null,
   "id": "c0bf5e71-6a57-4c89-aa0f-ff302d4470a9",
   "metadata": {},
   "outputs": [],
   "source": [
    "#Variables can also be collections like tuple, list or dictionary type\n",
    "primary_numbers : tuple =(2,3,5,7,11,13,17,19)\n",
    "favorite_fruits : tuple = (\"banana\", \"guava\", \"apple\", \"blueberry\", \"strawberry\")\n",
    "even_numbers : list = [2,4,6,8,10,12,14,16,18,20]\n",
    "student_record : list = [\"Vick Vu\", \"Python\", \"3.5\"]\n",
    "student_data:dict = {\"FirstName\" : \"Vick\" , \"LastName\":\"Vu\", \"CourseName\" : \"Python\", \"GPA\" : 3.5}\n"
   ]
  },
  {
   "cell_type": "code",
   "execution_count": 13,
   "id": "c9cf7864-8b8d-43bd-9a3e-ad4317d40ea4",
   "metadata": {},
   "outputs": [
    {
     "name": "stdout",
     "output_type": "stream",
     "text": [
      "<class 'tuple'>\n",
      "<class 'list'>\n",
      "<class 'dict'>\n"
     ]
    }
   ],
   "source": [
    "# variables (Collections Datatypes)\n",
    "even_numbers : tuple = (2,4,6,8,10)\n",
    "favorite_food : list = [\"Matki Poha\" , \"Samosa\", \"Pattice\", \"Sabudana Wada\", \"Cheese Uttapa\", \"Onion Uttapa\", \"Mysore Masala Dosa\"]\n",
    "faculty_data : dict = {\"Name\" : \"Elizabeth Zott\" , \"Subject\" : \"Chemistry\" ,\"GPA\" : 3.9, \"Specialization\" : \"Organic Chemistry\"}\n",
    "print(type(even_numbers))\n",
    "print(type(favorite_food))\n",
    "print(type(faculty_data))"
   ]
  },
  {
   "cell_type": "code",
   "execution_count": 19,
   "id": "268c2ec5-4723-4d94-99c8-3e9322f864df",
   "metadata": {},
   "outputs": [
    {
     "name": "stdout",
     "output_type": "stream",
     "text": [
      "('apple', 12, 3.14, None, True)\n",
      "[2, 3, 4, 5, 7, 11, 13, 20.2, None, False, 'All is well!', ('apple', 12, 3.14, None, True)]\n",
      "[100, 'Rucha', [2, 3, 4, 5, 7, 11, 13, 20.2, None, False, 'All is well!', ('apple', 12, 3.14, None, True)]]\n",
      "[[2, 3, 4, 5, 7, 11, 13, 20.2, None, False, 'All is well!', ('apple', 12, 3.14, None, True)], [100, 'Rucha', [2, 3, 4, 5, 7, 11, 13, 20.2, None, False, 'All is well!', ('apple', 12, 3.14, None, True)]]]\n"
     ]
    }
   ],
   "source": [
    "#Tuples, Lists can hold mixed types of data\n",
    "mix_tuple : tuple = (\"apple\", 12, 3.14, None, True)\n",
    "print(mix_tuple)\n",
    "mix_list: list = [2,3,4,5,7,11,13,20.2, None, False, \"All is well!\", mix_tuple] # A list can contain a tuple\n",
    "print(mix_list)\n",
    "mix_list_2 : list = [100,\"Rucha\", mix_list] # A list can contain another list\n",
    "print(mix_list_2)\n",
    "two_mix_lists : list = [mix_list, mix_list_2] #A list can contain two or more lists\n",
    "print(two_mix_lists)"
   ]
  },
  {
   "cell_type": "code",
   "execution_count": 20,
   "id": "dc85b1e9-bea8-44d1-8972-0a7e9eac30f4",
   "metadata": {},
   "outputs": [
    {
     "name": "stdout",
     "output_type": "stream",
     "text": [
      "[{'Name': 'Sue Jones', 'GPA': 3.4}, {'Name': 'Trick Too', 'GPA': 3.1}, {'Name': 'Jelly Bell', 'GPA': 3.2}]\n"
     ]
    }
   ],
   "source": [
    "student_data_1: dict = {\"Name\" : \"Sue Jones\", \"GPA\" : 3.4}\n",
    "student_data_2: dict = {\"Name\" : \"Trick Too\", \"GPA\" : 3.1}\n",
    "student_data_3: dict = {\"Name\" : \"Jelly Bell\", \"GPA\" : 3.2}\n",
    "student_datas = [student_data_1, student_data_2, student_data_3] # A list can contain multiple dictionary data\n",
    "print(student_datas)"
   ]
  },
  {
   "cell_type": "code",
   "execution_count": null,
   "id": "145ef3d8-f8ad-4143-aac6-a0cf015ed004",
   "metadata": {},
   "outputs": [],
   "source": []
  }
 ],
 "metadata": {
  "kernelspec": {
   "display_name": "Python 3 (ipykernel)",
   "language": "python",
   "name": "python3"
  },
  "language_info": {
   "codemirror_mode": {
    "name": "ipython",
    "version": 3
   },
   "file_extension": ".py",
   "mimetype": "text/x-python",
   "name": "python",
   "nbconvert_exporter": "python",
   "pygments_lexer": "ipython3",
   "version": "3.12.8"
  }
 },
 "nbformat": 4,
 "nbformat_minor": 5
}
